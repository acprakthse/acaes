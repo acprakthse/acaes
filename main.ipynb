{
 "cells": [
  {
   "cell_type": "code",
   "execution_count": 1,
   "metadata": {},
   "outputs": [
    {
     "name": "stdout",
     "output_type": "stream",
     "text": [
      "Number of Hours Operation: 8784\n",
      "Capacity Factor of Wind Farm:           36.70 %\n",
      "Capacity of Wind Farm:          15,210 kW\n",
      "Operating mode percentages:\n",
      "  Mode 1: 25.15%\n",
      "  Mode 2: 34.88%\n",
      "  Mode 3: 25.65%\n",
      "  Mode 4: 6.08%\n",
      "  Mode 5: 8.24%\n",
      "Total revenue without storage: €   2,849,297.26\n",
      "Total revenue from storage:    €   1,215,088.56\n",
      "Total revenue from grid:       €   2,348,508.03\n",
      "Grand total revenue:           €   3,563,596.60\n",
      "Annual saving from storage:    €     714,299.34\n",
      "Updated CSV saved successfully.\n"
     ]
    }
   ],
   "source": [
    "import os\n",
    "import matplotlib.pyplot as plt\n",
    "import pandas as pd\n",
    "from wind_turbine_model import read_wind_data, calculate_power_output, apply_conditions\n",
    "from Compressor_Model import compressor_energy_model\n",
    "from energy_management import allocate_energy_storage\n",
    "from revenue import calculate_revenue\n",
    "# from gas_turbine_model import gas_turbine_discharge\n",
    "\n",
    "def main():\n",
    "    # Set the directory on D: drive\n",
    "    downloads_folder = \"D:/\"  # You can change this to your desired folder\n",
    "    os.makedirs(downloads_folder, exist_ok=True)  # Create directory if it doesn't exist\n",
    "\n",
    "    # Define file paths\n",
    "    input_path = os.path.join(downloads_folder, \"wind and temp.xlsx\")\n",
    "    output_path = os.path.join(downloads_folder, \"Wind_data_with_power_output.csv\")\n",
    "\n",
    "    # Step 1: Read and preprocess wind data\n",
    "    df = read_wind_data(input_path)\n",
    "    df = calculate_power_output(df)\n",
    "    df = apply_conditions(df)\n",
    "\n",
    "    # Step 2: Run compressor model\n",
    "    df = compressor_energy_model(df)\n",
    "\n",
    "    # Step 3: Allocate energy storage\n",
    "    df = allocate_energy_storage(df)\n",
    "\n",
    "    # Step 4: Calculate Revenue\n",
    "    df = calculate_revenue(df)\n",
    "\n",
    "    # Optional: Plotting results\n",
    "    # plt.figure(figsize=(12, 6))\n",
    "    # plt.figure(figsize=(12, 6))\n",
    "    # plt.plot(df.index, df['Total_Power_Output'], label='Wind Turbine Power Output (kW)', color='blue')\n",
    "    # plt.plot(df.index, df['E_TES_kWh'], label='Compressor Heat Output (kWh)', color='orange', linestyle='--')\n",
    "    # plt.xlabel('Hour (Index)')\n",
    "    # plt.ylabel('Energy / Power')\n",
    "    # plt.title('Wind Turbine and Compressor Energy Output')\n",
    "    # plt.legend()\n",
    "    # plt.grid(True)\n",
    "    # plt.show()\n",
    "\n",
    "    # Step 4: Export results to CSV\n",
    "    df.to_csv(output_path, index=False)\n",
    "    print(\"Updated CSV saved successfully.\")\n",
    "\n",
    "if __name__ == \"__main__\":\n",
    "    main()    \n"
   ]
  }
 ],
 "metadata": {
  "kernelspec": {
   "display_name": "Python 3",
   "language": "python",
   "name": "python3"
  },
  "language_info": {
   "codemirror_mode": {
    "name": "ipython",
    "version": 3
   },
   "file_extension": ".py",
   "mimetype": "text/x-python",
   "name": "python",
   "nbconvert_exporter": "python",
   "pygments_lexer": "ipython3",
   "version": "3.11.6"
  }
 },
 "nbformat": 4,
 "nbformat_minor": 2
}
